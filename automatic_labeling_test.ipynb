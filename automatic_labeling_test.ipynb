{
 "cells": [
  {
   "cell_type": "code",
   "execution_count": 121,
   "metadata": {},
   "outputs": [],
   "source": [
    "import prepare_models\n",
    "import os\n",
    "import cv2 as cv\n",
    "import numpy as np\n",
    "from matplotlib.image import imread\n",
    "import scipy.misc\n",
    "from PIL import Image  \n",
    "import glob\n",
    "from matplotlib.image import imread\n",
    "import imutils"
   ]
  },
  {
   "cell_type": "code",
   "execution_count": 2,
   "metadata": {},
   "outputs": [
    {
     "name": "stdout",
     "output_type": "stream",
     "text": [
      "Model initialization\n"
     ]
    }
   ],
   "source": [
    "models = prepare_models.Models()\n",
    "extraction_predictor = models.preapre_extraction_model()\n",
    "segmentation_predictor = models.preapre_segmentation_model()"
   ]
  },
  {
   "cell_type": "code",
   "execution_count": 143,
   "metadata": {},
   "outputs": [],
   "source": [
    "labelme_start = '''{\n",
    "\"version\": \"4.5.10\",\n",
    "\"flags\": {},\n",
    "\"shapes\": [\n",
    "'''\n",
    "def labelme_end(filename,h,w):\n",
    "    labelme_end = '''],\n",
    "\"imagePath\": \"{}\",\n",
    "\"imageData\": null,\n",
    "\"imageHeight\": {},\n",
    "\"imageWidth\": {}\n",
    "'''.format(filename,h,w)\n",
    "    return labelme_end\n",
    "\n",
    "def add_points(label,contours):\n",
    "    # Approximate the contour\n",
    "    eps = 0.009 # Approximation parameter: higher ==> less points\n",
    "    contours = imutils.grab_contours(contours)\n",
    "    contours = max(contours, key=cv.contourArea)\n",
    "    peri = cv.arcLength(contours, True)\n",
    "    approx = cv.approxPolyDP(contours, eps * peri, True)\n",
    "    cont = np.vstack(approx).squeeze().tolist()\n",
    "    content = '''\n",
    "\"label\": \"{}\",\n",
    "\"points\": {},\n",
    "\"group_id\": null,\n",
    "\"shape_type\": \"polygon\",\n",
    "\"flags\": {}\n",
    "'''.format(label,cont,'{}')\n",
    "    return str(content)\n",
    "\n",
    "failures_dictionary = {\n",
    "    0:\"wykruszenie\",\n",
    "    1:\"narost\",\n",
    "    2:\"stepienie\",\n",
    "    3:\"zatarcie\"   \n",
    "}"
   ]
  },
  {
   "cell_type": "code",
   "execution_count": 146,
   "metadata": {},
   "outputs": [
    {
     "name": "stdout",
     "output_type": "stream",
     "text": [
      "D:\\Konrad\\TCM_scan\\traning_segmentation\\data\\auto_anot\\20210621_092043_056_030.png\n",
      "D:\\Konrad\\TCM_scan\\traning_segmentation\\data\\auto_anot\\20210621_092043_056_036.png\n",
      "D:\\Konrad\\TCM_scan\\traning_segmentation\\data\\auto_anot\\20210621_092043_056_043.png\n",
      "D:\\Konrad\\TCM_scan\\traning_segmentation\\data\\auto_anot\\20210621_092043_056_049.png\n",
      "D:\\Konrad\\TCM_scan\\traning_segmentation\\data\\auto_anot\\20210621_092043_056_055.png\n",
      "D:\\Konrad\\TCM_scan\\traning_segmentation\\data\\auto_anot\\20210621_092043_056_061.png\n",
      "D:\\Konrad\\TCM_scan\\traning_segmentation\\data\\auto_anot\\20210621_092043_056_067.png\n",
      "D:\\Konrad\\TCM_scan\\traning_segmentation\\data\\auto_anot\\20210621_092043_056_073.png\n",
      "D:\\Konrad\\TCM_scan\\traning_segmentation\\data\\auto_anot\\20210621_092043_056_080.png\n",
      "D:\\Konrad\\TCM_scan\\traning_segmentation\\data\\auto_anot\\20210621_092043_056_086.png\n",
      "D:\\Konrad\\TCM_scan\\traning_segmentation\\data\\auto_anot\\20210621_092043_056_092.png\n",
      "D:\\Konrad\\TCM_scan\\traning_segmentation\\data\\auto_anot\\20210621_092043_056_098.png\n",
      "D:\\Konrad\\TCM_scan\\traning_segmentation\\data\\auto_anot\\20210621_092043_056_104.png\n",
      "D:\\Konrad\\TCM_scan\\traning_segmentation\\data\\auto_anot\\20210621_092043_056_110.png\n",
      "D:\\Konrad\\TCM_scan\\traning_segmentation\\data\\auto_anot\\20210621_092043_056_117.png\n",
      "D:\\Konrad\\TCM_scan\\traning_segmentation\\data\\auto_anot\\20210621_092043_056_129.png\n",
      "D:\\Konrad\\TCM_scan\\traning_segmentation\\data\\auto_anot\\20210621_092043_056_160.png\n",
      "D:\\Konrad\\TCM_scan\\traning_segmentation\\data\\auto_anot\\20210621_092043_056_166.png\n",
      "D:\\Konrad\\TCM_scan\\traning_segmentation\\data\\auto_anot\\20210621_092043_056_172.png\n",
      "D:\\Konrad\\TCM_scan\\traning_segmentation\\data\\auto_anot\\20210621_092043_056_178.png\n",
      "D:\\Konrad\\TCM_scan\\traning_segmentation\\data\\auto_anot\\20210621_092043_056_184.png\n",
      "D:\\Konrad\\TCM_scan\\traning_segmentation\\data\\auto_anot\\20210621_092043_063_000.png\n",
      "D:\\Konrad\\TCM_scan\\traning_segmentation\\data\\auto_anot\\20210621_092043_063_012.png\n",
      "D:\\Konrad\\TCM_scan\\traning_segmentation\\data\\auto_anot\\20210621_092043_063_061.png\n",
      "D:\\Konrad\\TCM_scan\\traning_segmentation\\data\\auto_anot\\20210621_092043_063_073.png\n",
      "D:\\Konrad\\TCM_scan\\traning_segmentation\\data\\auto_anot\\20210621_092043_063_080.png\n",
      "D:\\Konrad\\TCM_scan\\traning_segmentation\\data\\auto_anot\\20210621_092043_063_086.png\n",
      "D:\\Konrad\\TCM_scan\\traning_segmentation\\data\\auto_anot\\20210621_092043_063_092.png\n",
      "D:\\Konrad\\TCM_scan\\traning_segmentation\\data\\auto_anot\\20210621_092043_063_098.png\n",
      "D:\\Konrad\\TCM_scan\\traning_segmentation\\data\\auto_anot\\20210621_092043_063_104.png\n",
      "D:\\Konrad\\TCM_scan\\traning_segmentation\\data\\auto_anot\\20210621_092043_063_110.png\n",
      "D:\\Konrad\\TCM_scan\\traning_segmentation\\data\\auto_anot\\20210621_092043_063_117.png\n",
      "D:\\Konrad\\TCM_scan\\traning_segmentation\\data\\auto_anot\\20210621_092043_063_123.png\n",
      "D:\\Konrad\\TCM_scan\\traning_segmentation\\data\\auto_anot\\20210621_092043_063_129.png\n",
      "D:\\Konrad\\TCM_scan\\traning_segmentation\\data\\auto_anot\\20210621_092043_063_135.png\n",
      "D:\\Konrad\\TCM_scan\\traning_segmentation\\data\\auto_anot\\20210621_092043_063_141.png\n",
      "D:\\Konrad\\TCM_scan\\traning_segmentation\\data\\auto_anot\\20210621_092043_063_154.png\n",
      "D:\\Konrad\\TCM_scan\\traning_segmentation\\data\\auto_anot\\20210621_092043_063_166.png\n",
      "D:\\Konrad\\TCM_scan\\traning_segmentation\\data\\auto_anot\\20210621_092043_063_172.png\n",
      "D:\\Konrad\\TCM_scan\\traning_segmentation\\data\\auto_anot\\20210621_092043_063_178.png\n",
      "D:\\Konrad\\TCM_scan\\traning_segmentation\\data\\auto_anot\\20210621_092043_063_184.png\n",
      "D:\\Konrad\\TCM_scan\\traning_segmentation\\data\\auto_anot\\20210621_092043_070_000.png\n",
      "D:\\Konrad\\TCM_scan\\traning_segmentation\\data\\auto_anot\\20210621_092043_070_012.png\n",
      "D:\\Konrad\\TCM_scan\\traning_segmentation\\data\\auto_anot\\20210621_092043_070_067.png\n",
      "D:\\Konrad\\TCM_scan\\traning_segmentation\\data\\auto_anot\\20210621_092043_070_073.png\n",
      "D:\\Konrad\\TCM_scan\\traning_segmentation\\data\\auto_anot\\20210621_092043_070_080.png\n",
      "D:\\Konrad\\TCM_scan\\traning_segmentation\\data\\auto_anot\\20210621_092043_070_086.png\n",
      "D:\\Konrad\\TCM_scan\\traning_segmentation\\data\\auto_anot\\20210621_092043_070_092.png\n",
      "D:\\Konrad\\TCM_scan\\traning_segmentation\\data\\auto_anot\\20210621_092043_070_098.png\n",
      "D:\\Konrad\\TCM_scan\\traning_segmentation\\data\\auto_anot\\20210621_092043_070_104.png\n",
      "D:\\Konrad\\TCM_scan\\traning_segmentation\\data\\auto_anot\\20210621_092043_070_110.png\n",
      "D:\\Konrad\\TCM_scan\\traning_segmentation\\data\\auto_anot\\20210621_092043_070_117.png\n",
      "D:\\Konrad\\TCM_scan\\traning_segmentation\\data\\auto_anot\\20210621_092043_070_123.png\n",
      "D:\\Konrad\\TCM_scan\\traning_segmentation\\data\\auto_anot\\20210621_092043_070_129.png\n",
      "D:\\Konrad\\TCM_scan\\traning_segmentation\\data\\auto_anot\\20210621_092043_070_135.png\n",
      "D:\\Konrad\\TCM_scan\\traning_segmentation\\data\\auto_anot\\20210621_092043_070_141.png\n",
      "D:\\Konrad\\TCM_scan\\traning_segmentation\\data\\auto_anot\\20210621_092043_070_147.png\n",
      "D:\\Konrad\\TCM_scan\\traning_segmentation\\data\\auto_anot\\20210621_092043_070_154.png\n",
      "D:\\Konrad\\TCM_scan\\traning_segmentation\\data\\auto_anot\\20210621_092043_070_172.png\n",
      "D:\\Konrad\\TCM_scan\\traning_segmentation\\data\\auto_anot\\20210621_092043_077_012.png\n",
      "Finished\n"
     ]
    }
   ],
   "source": [
    "pth = r'D:\\Konrad\\TCM_scan\\traning_segmentation\\data\\auto_anot\\\\'\n",
    "\n",
    "for imageName in glob.glob(pth + '*png'):\n",
    "    print(imageName)\n",
    "    im = cv.imread(imageName)\n",
    "    outputs = segmentation_predictor(im) # Make prediction\n",
    "    name = imageName.split('\\\\')[-1]\n",
    "    img = Image.fromarray(im)\n",
    "    base_name = name.split('.')[0]\n",
    "    # Get mask and label from the prediction\n",
    "    pred_masks = outputs[\"instances\"].to(\"cpu\").pred_masks.numpy()\n",
    "    pred_classes = outputs[\"instances\"].to(\"cpu\").pred_classes.numpy()\n",
    "    num_instances = pred_masks.shape[0] \n",
    "    pred_masks = np.moveaxis(pred_masks, 0, -1)\n",
    "    pred_masks_instance = []\n",
    "    output = np.zeros_like(im)\n",
    "\n",
    "    labelme_json = labelme_start # Create begening of the labelme json file\n",
    "    for i in range(num_instances): # Iterate over predicted defects instances and add it to the labelme json file\n",
    "        labelme_json += '{' # Open container for new instance    \n",
    "        \n",
    "        # Get binary mask from inference, convert it into opencv format and find contours\n",
    "        pred_masks_instance.append(pred_masks[:, :, i:(i+1)]) \n",
    "        output = np.where(pred_masks_instance[i] == True, 255, output)\n",
    "        im = Image.fromarray(output)\n",
    "        output = np.zeros_like(im)\n",
    "        pred_masks_instances = []\n",
    "        im = np.array(im) \n",
    "        im = cv.cvtColor(im, cv.COLOR_BGR2GRAY )   \n",
    "        contours = cv.findContours(im, cv.RETR_TREE, cv.CHAIN_APPROX_SIMPLE)\n",
    "\n",
    "        # Add contours to the labelme json file\n",
    "        labelme_json += add_points(failures_dictionary[pred_classes[i]],contours)\n",
    "        \n",
    "        # Check if it is last instance and close container\n",
    "        if(i+1 == num_instances):labelme_json += '}\\n' \n",
    "        else: labelme_json += '},\\n'\n",
    "  \n",
    "\n",
    "    labelme_json += labelme_end(base_name + '.png',img.size[1],img.size[0]) # Add some additional information\n",
    "    labelme_json += '}' # End of the labelme json file\n",
    "    out_txt_name = pth + base_name  + '.json'\n",
    "    # Save labelme json file\n",
    "    file = open(out_txt_name, 'w')\n",
    "    file.write(str(labelme_json))\n",
    "    file.close() \n",
    "\n",
    "print(\"Finished\")   "
   ]
  },
  {
   "cell_type": "code",
   "execution_count": 129,
   "metadata": {},
   "outputs": [],
   "source": []
  },
  {
   "cell_type": "code",
   "execution_count": 130,
   "metadata": {},
   "outputs": [
    {
     "data": {
      "text/plain": [
       "'stepienie'"
      ]
     },
     "execution_count": 130,
     "metadata": {},
     "output_type": "execute_result"
    }
   ],
   "source": []
  },
  {
   "cell_type": "code",
   "execution_count": 127,
   "metadata": {},
   "outputs": [
    {
     "data": {
      "text/plain": [
       "PIL.Image.Image"
      ]
     },
     "execution_count": 127,
     "metadata": {},
     "output_type": "execute_result"
    }
   ],
   "source": [
    "if (inst_ids[i]=='1' and (1 in draw_pick)): # blue - 'stępienie' \n",
    "                g = cv.bitwise_and(g,cv.split(mask)[0])\n",
    "                r = cv.bitwise_and(r,cv.split(mask)[0])\n",
    "            elif(inst_ids[i]=='2'and (2 in draw_pick)): # red - 'narost'\n",
    "                g = cv.bitwise_and(g,cv.split(mask)[0])\n",
    "                b = cv.bitwise_and(b,cv.split(mask)[0])\n",
    "            elif(inst_ids[i]=='3'and (3 in draw_pick)): # green - 'zatarcie'\n",
    "                r = cv.bitwise_and(r,cv.split(mask)[0])\n",
    "                b = cv.bitwise_and(b,cv.split(mask)[0])\n",
    "            elif(inst_ids[i]=='4'and (4 in draw_pick)): # yellow - 'wykruszenie'"
   ]
  }
 ],
 "metadata": {
  "interpreter": {
   "hash": "6d966460be56cfd4cf1312a884097779edf5838bdcd3a3a1b94b98d10b3e92a9"
  },
  "kernelspec": {
   "display_name": "Python 3.7.0 64-bit ('detectron2': conda)",
   "language": "python",
   "name": "python3"
  },
  "language_info": {
   "codemirror_mode": {
    "name": "ipython",
    "version": 3
   },
   "file_extension": ".py",
   "mimetype": "text/x-python",
   "name": "python",
   "nbconvert_exporter": "python",
   "pygments_lexer": "ipython3",
   "version": "3.7.0"
  },
  "orig_nbformat": 4
 },
 "nbformat": 4,
 "nbformat_minor": 2
}
