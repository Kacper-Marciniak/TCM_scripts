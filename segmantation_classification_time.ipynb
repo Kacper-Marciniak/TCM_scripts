{
 "cells": [
  {
   "cell_type": "markdown",
   "metadata": {},
   "source": [
    "# Imports"
   ]
  },
  {
   "cell_type": "code",
   "execution_count": null,
   "metadata": {},
   "outputs": [],
   "source": [
    "import torch\n",
    "import torchvision\n",
    "import detectron2\n",
    "from detectron2.utils.logger import setup_logger\n",
    "setup_logger()\n",
    "import numpy as np\n",
    "import os, json, random\n",
    "import cv2 as cv\n",
    "from matplotlib import pyplot as plt\n",
    "from detectron2 import model_zoo\n",
    "from detectron2.engine import DefaultPredictor\n",
    "from detectron2.config import get_cfg\n",
    "from detectron2.utils.visualizer import Visualizer\n",
    "from detectron2.data import MetadataCatalog, DatasetCatalog\n",
    "from detectron2.data.datasets import register_coco_instances\n",
    "from detectron2.engine import DefaultTrainer\n",
    "from detectron2.utils.visualizer import ColorMode\n",
    "\n",
    "from prepare_models import Models\n",
    "\n",
    "import os"
   ]
  },
  {
   "cell_type": "code",
   "execution_count": null,
   "metadata": {},
   "outputs": [],
   "source": [
    "print('Is CUDA available:',torch.cuda.is_available())\n",
    "print('CUDA version:',torch.version.cuda)\n",
    "print('Torch.version:',torch.__version__)\n",
    "print('Detectron2 version:',detectron2.__version__)"
   ]
  },
  {
   "cell_type": "code",
   "execution_count": null,
   "metadata": {},
   "outputs": [],
   "source": [
    "# prepare segmentation model\n",
    "predictor = Models().preapre_segmentation_model()"
   ]
  },
  {
   "cell_type": "code",
   "execution_count": null,
   "metadata": {},
   "outputs": [],
   "source": [
    "# prepare files\n",
    "PATH = r\"Z:\\labeled_data_060622\"\n",
    "image_path_list = list()\n",
    "for filename in os.listdir(PATH):\n",
    "    if \".png\" in filename: image_path_list.append(os.path.join(PATH,filename))\n",
    "\n",
    "print(f\"Loaded {len(image_path_list)} images!\")"
   ]
  },
  {
   "cell_type": "code",
   "execution_count": null,
   "metadata": {},
   "outputs": [],
   "source": [
    "import time\n",
    "\n",
    "array_time_prediction = np.empty((len(image_path_list)))\n",
    "\n",
    "for i,ImgPath in enumerate(image_path_list):\n",
    "    im = cv.imread(ImgPath)\n",
    "    time_start = time.time_ns()\n",
    "    predictions = predictor(im)\n",
    "    time_prediction = (time.time_ns()-time_start)/1e6 # miliseconds\n",
    "    array_time_prediction[i] = time_prediction\n",
    "    print(f\"{i+1}/{len(image_path_list)}, time: {time_prediction}\")"
   ]
  },
  {
   "cell_type": "code",
   "execution_count": null,
   "metadata": {},
   "outputs": [],
   "source": [
    "mean_time = array_time_prediction.mean()\n",
    "std_time = array_time_prediction.std()\n",
    "max_time = (np.max(array_time_prediction),np.argmax(array_time_prediction))\n",
    "min_time = (np.min(array_time_prediction),np.argmin(array_time_prediction))\n",
    "\n",
    "if torch.cuda.is_available(): \n",
    "    device = torch.cuda.get_device_name(torch.cuda.current_device())\n",
    "else:\n",
    "    device = \"CPU\"\n",
    "\n",
    "print(f'''\n",
    "Device used: {device};\\n\n",
    "Mean time of prediciton: {mean_time:.3f}+-{2*std_time:.3f} ms;\\n\n",
    "Max time: {max_time[0]:.3f} ms for img: {image_path_list[max_time[1]]};\\n\n",
    "Min time: {min_time[0]:.3f} ms for img: {image_path_list[min_time[1]]};\\n\n",
    "''')\n",
    "fig,axes = plt.subplots(ncols=2)\n",
    "axes[0].imshow(cv.imread(image_path_list[max_time[1]]))\n",
    "axes[0].set_title(\"Max time\")\n",
    "axes[1].imshow(cv.imread(image_path_list[min_time[1]]))\n",
    "axes[1].set_title(\"Min time\")\n",
    "fig.show()\n",
    "fig,ax = plt.subplots(ncols=1)\n",
    "ax.plot(\n",
    "    array_time_prediction, \n",
    "    linestyle=\"none\", marker=\"o\", label=\"Prediction time\", color=\"black\"\n",
    ")\n",
    "ax.axhline(max_time[0], label=\"MAX\", color=\"red\", linestyle=\"--\", linewidth=1)\n",
    "ax.axhline(min_time[0], label=\"MIN\", color=\"blue\", linestyle=\"--\", linewidth=1)\n",
    "ax.axhline(mean_time, label=\"MEAN\", color=\"black\", linestyle=\"-\", linewidth=1)\n",
    "ax.axvline(max_time[1], color=\"red\", linestyle=\"--\", linewidth=1)\n",
    "ax.axvline(min_time[1], color=\"blue\", linestyle=\"--\", linewidth=1)\n",
    "ax.grid(True)\n",
    "ax.legend(loc=\"upper left\")\n",
    "ax.set_xlabel(\"Image\")\n",
    "ax.set_ylabel(\"Prediction time\")\n",
    "fig.show()"
   ]
  }
 ],
 "metadata": {
  "interpreter": {
   "hash": "58c64561d3c79ee31cfc9210dc9ae71e62823c70a9c0b76afd259aeabe3e4d26"
  },
  "kernelspec": {
   "display_name": "Python 3.7.12 ('env_main')",
   "language": "python",
   "name": "python3"
  },
  "language_info": {
   "codemirror_mode": {
    "name": "ipython",
    "version": 3
   },
   "file_extension": ".py",
   "mimetype": "text/x-python",
   "name": "python",
   "nbconvert_exporter": "python",
   "pygments_lexer": "ipython3",
   "version": "3.7.12"
  },
  "orig_nbformat": 4
 },
 "nbformat": 4,
 "nbformat_minor": 2
}
