{
 "cells": [
  {
   "cell_type": "code",
   "execution_count": 25,
   "metadata": {},
   "outputs": [],
   "source": [
    "import plotly.express as px\n",
    "import math"
   ]
  },
  {
   "cell_type": "markdown",
   "metadata": {},
   "source": [
    "# Base params"
   ]
  },
  {
   "cell_type": "code",
   "execution_count": 26,
   "metadata": {},
   "outputs": [],
   "source": [
    "stepienie = 0.122\n",
    "dlugosc = 1.309\n",
    "gamma = 10\n",
    "AngleOfAttack = 15\n",
    "AngleOfClerance = 2\n",
    "AngleOfBack = 40\n",
    "NominalTootHeight = 2.8\n",
    "Lenght = 1.2\n",
    "\n",
    "AngleOfAttack_rad = math.radians(AngleOfAttack)\n",
    "AngleOfClerance_rad = math.radians(AngleOfClerance)\n",
    "AngleOfAttack2_rad = math.radians(90 - AngleOfAttack)\n",
    "AngleOfClerance2_rad = math.radians(90 - AngleOfClerance)\n",
    "AngleOfBack2_rad = math.radians(90 - AngleOfBack)\n",
    "gamma_rad = math.radians(gamma)\n"
   ]
  },
  {
   "cell_type": "markdown",
   "metadata": {},
   "source": [
    "# D & E points calculations"
   ]
  },
  {
   "cell_type": "code",
   "execution_count": 27,
   "metadata": {},
   "outputs": [
    {
     "name": "stdout",
     "output_type": "stream",
     "text": [
      "13.6687705184522\n",
      "-3.3666820232074697\n",
      "0.2070777671881133\n",
      "0.12725088677047453 0.004441893900454548 0.005250886770474528 0.019596576212202198\n",
      "0.12388204665006089\n"
     ]
    }
   ],
   "source": [
    "A = math.tan(AngleOfClerance_rad)**2 - 2*math.tan(AngleOfClerance_rad)*math.tan(AngleOfAttack2_rad) + math.tan(AngleOfAttack2_rad)**2 \n",
    "print(A)\n",
    "B = 2*math.tan(AngleOfClerance_rad)*stepienie*math.tan(AngleOfAttack2_rad)-2*stepienie*math.tan(AngleOfAttack2_rad)**2\n",
    "print(B)\n",
    "C = stepienie**2 - (stepienie**2/math.cos(gamma_rad)) + stepienie**2*math.tan(AngleOfAttack2_rad)**2\n",
    "print(C)\n",
    "\n",
    "delta = B**2 - 4*A*C\n",
    "xD1 = (-B-math.sqrt(delta))/(2*A)\n",
    "xD2 = (-B+math.sqrt(delta))/(2*A)\n",
    "yD1 = xD1 * AngleOfClerance_rad\n",
    "yD2 = xD2 * AngleOfClerance_rad\n",
    "\n",
    "xE1 = xD1 - stepienie \n",
    "yE1 = (xD1-stepienie)*math.tan(AngleOfAttack2_rad)\n",
    "xE2 = xD2 - stepienie\n",
    "yE2 = (xD2-stepienie)*math.tan(AngleOfAttack2_rad)\n",
    "\n",
    "\n",
    "if xD1>0 and yD1>0 and xE1>0 and yE1>0:\n",
    "    xD, yD, xE, yE = xD1, yD1, xE1, yE1 \n",
    "else:\n",
    "   xD, yD, xE, yE = xD2, yD2, xE2, yE2\n",
    "\n",
    "print(xD, yD, xE, yE)   \n",
    "\n",
    "ED = stepienie/math.cos(gamma_rad)\n",
    "print(ED)\n"
   ]
  },
  {
   "cell_type": "markdown",
   "metadata": {},
   "source": [
    "# Lines calculations"
   ]
  },
  {
   "cell_type": "code",
   "execution_count": 28,
   "metadata": {},
   "outputs": [
    {
     "name": "stdout",
     "output_type": "stream",
     "text": [
      "0.03492076949174773 3.7320508075688776\n",
      "-0.12421870747334139 0.02024883457991941\n",
      "1.19175359259421 -1.394273785889434\n"
     ]
    }
   ],
   "source": [
    "A1 = math.tan(AngleOfClerance_rad)\n",
    "A2 = math.tan(AngleOfAttack2_rad)\n",
    "print(A1,A2)\n",
    "AZ = (yE-yD)/(xE-xD)\n",
    "BZ = yD - AZ*xD\n",
    "print(AZ,BZ)\n",
    "A3 = math.tan(AngleOfBack2_rad)\n",
    "xG = Lenght + xE\n",
    "yG = A1 * xG\n",
    "B3 = yG - A3*xG\n",
    "print(A3,B3)\n",
    "A4 = A1 \n",
    "B4 = 0.012\n"
   ]
  },
  {
   "cell_type": "code",
   "execution_count": 29,
   "metadata": {},
   "outputs": [
    {
     "name": "stdout",
     "output_type": "stream",
     "text": [
      "2.7955581060995454\n"
     ]
    }
   ],
   "source": [
    "NewToothHeight = NominalTootHeight - yD\n",
    "print(NewToothHeight)"
   ]
  },
  {
   "cell_type": "markdown",
   "metadata": {},
   "source": [
    "# I - ile skrawać"
   ]
  },
  {
   "cell_type": "code",
   "execution_count": 30,
   "metadata": {},
   "outputs": [
    {
     "name": "stdout",
     "output_type": "stream",
     "text": [
      "0.12293764434041347\n"
     ]
    }
   ],
   "source": [
    "skrawanie_I = math.sqrt((xE-xD)**2 + (yE-yD)**2 )\n",
    "print(skrawanie_I)"
   ]
  },
  {
   "cell_type": "markdown",
   "metadata": {},
   "source": [
    "# Obliczanie czasu - regeneracja I"
   ]
  },
  {
   "cell_type": "code",
   "execution_count": 31,
   "metadata": {},
   "outputs": [
    {
     "name": "stdout",
     "output_type": "stream",
     "text": [
      "137.42857142857142\n",
      "3\n"
     ]
    }
   ],
   "source": [
    "wyiskrzanie = 0.005\n",
    "wykanczajaco = 0.035\n",
    "zgrubnie = 0.190\n",
    "\n",
    "\n",
    "def znajdz_ilosc_przejsc(skrawanie_I):\n",
    "    ilosc_przejsc = 0\n",
    "    if skrawanie_I>0:\n",
    "        ilosc_przejsc += 1\n",
    "        skrawanie_I -= wyiskrzanie\n",
    "        if skrawanie_I>0: \n",
    "            ilosc_przejsc+=1\n",
    "            skrawanie_I -= wykanczajaco\n",
    "            while skrawanie_I>0:\n",
    "                skrawanie_I -= zgrubnie\n",
    "                ilosc_przejsc += 1\n",
    "\n",
    "    return ilosc_przejsc\n",
    "\n",
    "liczba_rzedow_zebow = 85\n",
    "ilosc_przejsc = znajdz_ilosc_przejsc(skrawanie_I)\n",
    "v_skrawania = 700 #[mm/min]\n",
    "dl_obrobki = 220 #[mm]\n",
    "obrobka_wejscie = 10 #[mm]\n",
    "obrobka_wyjscie = 10 #[mm]\n",
    "dlugosc_calkowita = dl_obrobki + obrobka_wejscie + obrobka_wyjscie\n",
    "czas_na_przejscie = dlugosc_calkowita/v_skrawania #[min]\n",
    "czas_calkowity_obrobki = czas_na_przejscie*ilosc_przejsc*liczba_rzedow_zebow\n",
    "czas_pz = 50 #[min]\n",
    "czas_calkowity = czas_calkowity_obrobki + czas_pz\n",
    "print(czas_calkowity)\n",
    "print(ilosc_przejsc)"
   ]
  },
  {
   "cell_type": "markdown",
   "metadata": {},
   "source": [
    "# Koszt - regeneracja I"
   ]
  },
  {
   "cell_type": "code",
   "execution_count": 32,
   "metadata": {},
   "outputs": [
    {
     "name": "stdout",
     "output_type": "stream",
     "text": [
      "455.0985714285714\n"
     ]
    }
   ],
   "source": [
    "koszt = 61.67 + 4.5 * czas_calkowity_obrobki\n",
    "print(koszt)"
   ]
  },
  {
   "cell_type": "markdown",
   "metadata": {},
   "source": [
    "Regeneracja II"
   ]
  },
  {
   "cell_type": "code",
   "execution_count": 33,
   "metadata": {},
   "outputs": [
    {
     "name": "stdout",
     "output_type": "stream",
     "text": [
      "0.12725088677047453 0.004441893900454548\n",
      "0.005250886770474528 0.019596576212202198\n"
     ]
    }
   ],
   "source": [
    "print(xD,yD)\n",
    "print(xE,yE)"
   ]
  },
  {
   "cell_type": "code",
   "execution_count": 65,
   "metadata": {},
   "outputs": [
    {
     "data": {
      "text/plain": [
       "<matplotlib.collections.PathCollection at 0x1799fd01128>"
      ]
     },
     "execution_count": 65,
     "metadata": {},
     "output_type": "execute_result"
    },
    {
     "data": {
      "image/png": "[encoded data removed]",
      "text/plain": [
       "<Figure size 432x288 with 1 Axes>"
      ]
     },
     "metadata": {
      "needs_background": "light"
     },
     "output_type": "display_data"
    }
   ],
   "source": [
    "from scipy.optimize import fsolve\n",
    "import math\n",
    "\n",
    "ED = math.sqrt((xD-xE)**2 + (yD-yE)**2)\n",
    "def equation(input,i):\n",
    "    xP,yP = input\n",
    "    return (xE-xD)*(yE-yP) - (yE-yD)*(xE-xP), (xE-xP)**2 + (yE-yP)**2 -(ED**2)*(i/10)**2\n",
    "\n",
    "X,Y = [],[]\n",
    "for i in range(1,10):\n",
    "    xP,yP = fsolve(equation,(1,1),i)\n",
    "    X.append(xP)\n",
    "    Y.append(yP)\n",
    "\n",
    "import matplotlib.pyplot as plt\n",
    "plt.scatter(X,Y)\n",
    "plt.scatter(xD,yD)\n",
    "plt.scatter(xE,yE)\n"
   ]
  },
  {
   "cell_type": "code",
   "execution_count": 71,
   "metadata": {},
   "outputs": [
    {
     "data": {
      "text/plain": [
       "<matplotlib.collections.PathCollection at 0x1799fd8a320>"
      ]
     },
     "execution_count": 71,
     "metadata": {},
     "output_type": "execute_result"
    },
    {
     "data": {
      "image/png": "[encoded data removed]",
      "text/plain": [
       "<Figure size 432x288 with 1 Axes>"
      ]
     },
     "metadata": {
      "needs_background": "light"
     },
     "output_type": "display_data"
    }
   ],
   "source": [
    "stepienie = 0.2\n",
    "xD = stepienie\n",
    "xE = 0\n",
    "yD = 0\n",
    "gamma = 10\n",
    "gamma_rad = math.radians(gamma)\n",
    "yE = math.tan(gamma_rad) * xD\n",
    "D = xD,yD\n",
    "E = xE,yE\n",
    "\n",
    "ED = math.sqrt((xD-xE)**2 + (yD-yE)**2)\n",
    "def equation(input,i):\n",
    "    xP,yP = input\n",
    "    return (xE-xD)*(yE-yP) - (yE-yD)*(xE-xP), (xE-xP)**2 + (yE-yP)**2 -(ED**2)*(i/10)**2\n",
    "\n",
    "X,Y = [],[]\n",
    "for i in range(1,10):\n",
    "    xP,yP = fsolve(equation,(1,1),i)\n",
    "    X.append(xP)\n",
    "    Y.append(yP)\n",
    "\n",
    "import matplotlib.pyplot as plt\n",
    "plt.scatter(X,Y)\n",
    "plt.scatter(xD,yD)\n",
    "plt.scatter(xE,yE)"
   ]
  }
 ],
 "metadata": {
  "interpreter": {
   "hash": "40fbd014fa923a8336722c6f24decc01683cdfac1d708ccc4157f3a1932462ef"
  },
  "kernelspec": {
   "display_name": "Python 3.7.0 ('detectron2')",
   "language": "python",
   "name": "python3"
  },
  "language_info": {
   "codemirror_mode": {
    "name": "ipython",
    "version": 3
   },
   "file_extension": ".py",
   "mimetype": "text/x-python",
   "name": "python",
   "nbconvert_exporter": "python",
   "pygments_lexer": "ipython3",
   "version": "3.7.0"
  },
  "orig_nbformat": 4
 },
 "nbformat": 4,
 "nbformat_minor": 2
}
