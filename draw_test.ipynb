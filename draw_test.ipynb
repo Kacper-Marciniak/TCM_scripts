{
 "cells": [
  {
   "cell_type": "code",
   "execution_count": 4,
   "metadata": {},
   "outputs": [],
   "source": [
    "import plotly.express as px\n",
    "import math"
   ]
  },
  {
   "cell_type": "code",
   "execution_count": 24,
   "metadata": {},
   "outputs": [],
   "source": [
    "stepienie = 0.1\n",
    "dlugosc = 1.309\n",
    "gamma = 10\n",
    "AngleOfAttack = 15\n",
    "AngleOfClerance = 2\n",
    "AngleOfBack = 40\n",
    "NominalTootHeight = 2.8\n"
   ]
  },
  {
   "cell_type": "code",
   "execution_count": 25,
   "metadata": {},
   "outputs": [
    {
     "name": "stdout",
     "output_type": "stream",
     "text": [
      "13.6687705184522\n",
      "-2.759575428858582\n",
      "0.13912776618389772\n"
     ]
    }
   ],
   "source": [
    "AngleOfAttack_rad = math.radians(AngleOfAttack)\n",
    "AngleOfClerance_rad = math.radians(AngleOfClerance)\n",
    "AngleOfAttack2_rad = math.radians(90 - AngleOfAttack)\n",
    "AngleOfClerance2_rad = math.radians(90 - AngleOfClerance)\n",
    "gamma_rad = math.radians(gamma)\n",
    "A = math.tan(AngleOfClerance_rad)**2 - 2*math.tan(AngleOfClerance_rad)*math.tan(AngleOfAttack2_rad) + math.tan(AngleOfAttack2_rad)**2 \n",
    "print(A)\n",
    "B = 2*math.tan(AngleOfClerance_rad)*stepienie*math.tan(AngleOfAttack2_rad)-2*stepienie*math.tan(AngleOfAttack2_rad)**2\n",
    "print(B)\n",
    "C = stepienie**2 - (stepienie**2/math.cos(gamma_rad)) + stepienie**2*math.tan(AngleOfAttack2_rad)**2\n",
    "print(C)"
   ]
  },
  {
   "cell_type": "code",
   "execution_count": 37,
   "metadata": {},
   "outputs": [
    {
     "name": "stdout",
     "output_type": "stream",
     "text": [
      "0.1043040055495692 0.00364089663971684 0.004304005549569195 0.016062767387050647\n",
      "0.10154266118857451\n"
     ]
    }
   ],
   "source": [
    "delta = B**2 - 4*A*C\n",
    "xD1 = (-B-math.sqrt(delta))/(2*A)\n",
    "xD2 = (-B+math.sqrt(delta))/(2*A)\n",
    "yD1 = xD1 * AngleOfClerance_rad\n",
    "yD2 = xD2 * AngleOfClerance_rad\n",
    "\n",
    "xE1 = xD1 - stepienie \n",
    "yE1 = (xD1-stepienie)*math.tan(AngleOfAttack2_rad)\n",
    "xE2 = xD2 - stepienie\n",
    "yE2 = (xD2-stepienie)*math.tan(AngleOfAttack2_rad)\n",
    "\n",
    "\n",
    "if xD1>0 and yD1>0 and xE1>0 and yE1>0:\n",
    "    xD, yD, xE, yE = xD1, yD1, xE1, yE1 \n",
    "else:\n",
    "   xD, yD, xE, yE = xD2, yD2, xE2, yE2\n",
    "\n",
    "print(xD, yD, xE, yE)   \n",
    "\n",
    "ED = stepienie/math.cos(gamma_rad)\n",
    "print(ED)\n"
   ]
  }
 ],
 "metadata": {
  "interpreter": {
   "hash": "6d966460be56cfd4cf1312a884097779edf5838bdcd3a3a1b94b98d10b3e92a9"
  },
  "kernelspec": {
   "display_name": "Python 3.7.0 ('detectron2')",
   "language": "python",
   "name": "python3"
  },
  "language_info": {
   "codemirror_mode": {
    "name": "ipython",
    "version": 3
   },
   "file_extension": ".py",
   "mimetype": "text/x-python",
   "name": "python",
   "nbconvert_exporter": "python",
   "pygments_lexer": "ipython3",
   "version": "3.7.0"
  },
  "orig_nbformat": 4
 },
 "nbformat": 4,
 "nbformat_minor": 2
}
