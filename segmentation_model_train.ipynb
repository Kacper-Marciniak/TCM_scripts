{
 "cells": [
  {
   "cell_type": "code",
   "execution_count": null,
   "metadata": {},
   "outputs": [],
   "source": [
    "# import some common detectron2 utilities\n",
    "\n",
    "from detectron2 import model_zoo\n",
    "from detectron2.engine import DefaultPredictor\n",
    "from detectron2.config import get_cfg\n",
    "from detectron2.utils.visualizer import Visualizer"
   ]
  },
  {
   "cell_type": "code",
   "execution_count": null,
   "metadata": {},
   "outputs": [],
   "source": [
    "from detectron2.data.datasets import register_coco_instances\n",
    "# Register a COCO Format Dataset\n",
    "register_coco_instances(\"TCM_train2\", {}, \n",
    "                        \"/home/zen/Documents/TCM/TCM_data/4_traning/teeth_coco.json\", \n",
    "                        \"/home/zen/Documents/TCM/TCM_data/4_traning/train\")\n"
   ]
  },
  {
   "cell_type": "code",
   "execution_count": null,
   "metadata": {},
   "outputs": [],
   "source": [
    "from detectron2.data import MetadataCatalog\n",
    "from detectron2.data.catalog import DatasetCatalog\n",
    "\n",
    "#visualize training data\n",
    "my_dataset_train_metadata = MetadataCatalog.get(\"TCM_train2\")\n",
    "dataset_dicts = DatasetCatalog.get(\"TCM_train2\")\n",
    "\n",
    "import random\n",
    "from detectron2.utils.visualizer import Visualizer\n",
    "from matplotlib import pyplot as plt\n",
    "\n",
    "img = cv.imread('/home/zen/Documents/TCM/TCM_data/4_traning/train/pwr_a_1_20210930_100324_data_tooth_282.png')\n",
    "plt.imshow(img)\n",
    "plt.show()\n",
    "\n",
    "for d in random.sample(dataset_dicts, 5):\n",
    "    img = cv.imread(d[\"file_name\"])\n",
    "    visualizer = Visualizer(img[:, :, ::-1], metadata=my_dataset_train_metadata, scale=0.1)\n",
    "    vis = visualizer.draw_dataset_dict(d)\n",
    "    plt.show(vis.get_image()[:, :, ::-1])"
   ]
  }
 ],
 "metadata": {
  "language_info": {
   "name": "python"
  },
  "orig_nbformat": 4
 },
 "nbformat": 4,
 "nbformat_minor": 2
}
